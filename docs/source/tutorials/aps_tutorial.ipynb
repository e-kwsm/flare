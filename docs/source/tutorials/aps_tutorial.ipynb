{
 "cells": [
  {
   "cell_type": "markdown",
   "metadata": {
    "id": "q8tB4lvLyJt5"
   },
   "source": [
    "## Introduction to FLARE: Fast Learning of Atomistic Rare Events\n",
    "Jonathan Vandermause (jonathan_vandermause@g.harvard.edu)"
   ]
  },
  {
   "cell_type": "markdown",
   "metadata": {
    "id": "juyRGASPwpZp"
   },
   "source": [
    "<img src=\"https://github.com/mir-group/APS-2020-FLARE-Tutorial/blob/master/Tutorial_Images/flare_logo.png?raw=true\" width=\"60%\">"
   ]
  },
  {
   "cell_type": "markdown",
   "metadata": {
    "id": "EM1Q0tPDyV2n"
   },
   "source": [
    "**Learning objectives:**\n",
    "  * Train 2+3-body Gaussian process models on _ab initio_ force data.\n",
    "  * Use the uncertainties of the GP to train a force field on the fly."
   ]
  },
  {
   "cell_type": "markdown",
   "metadata": {
    "id": "X7beT1bu0Raw"
   },
   "source": [
    "Computing the properties of real materials with quantum mechanical accuracy is extremely expensive. One of the most efficient explicitly quantum mechanical tools we have for the job, density functional theory (or DFT), has a computational cost that scales cubically with the number of atoms in the system, and is therefore limited in practice to at most a few hundred atoms (with some hope of scaling further with orbital free DFT methods).\n",
    "\n",
    "One of the most popular strategies for getting around this is to simply ignore the hard part of the problem---the electrons---and to instead try to model the system with an _empirical interatomic potential_, which expresses the potential energy as a sum over local, atom-centered contributions that depend  only on atomic coordinates. The resulting model scales only linearly with the number of atoms, making it possible to simulate the behavior of hundreds of thousands or even millions of atoms over microsecond timescales. The problem then becomes: how do you design a good potential? Is it possible to find a fast empirical potential with the accuracy of DFT?\n",
    "\n",
    "FLARE is an open-source software that uses Bayesian machine learning to try to bridge the gap between accurate but slow quantum methods (like DFT) and fast but inaccurate classical methods (like empirical interatomic potentials). The idea is to train fast potentials on accurate DFT data, and ideally to do so in an automatic, closed loop fashion, so that a wide class of materials and material compositions can be efficiently explored. The key tool FLARE uses to accomplish this is Gaussian process (GP) regression, an elegant framework for defining probability distributions over functions. In this tutorial, we'll explore the use of GPs to model interactions between atoms in materials.\n",
    "\n",
    "If you're interested in learning more about the FLARE code, check out our [paper](https://www.nature.com/articles/s41524-020-0283-z), [GitHub page](https://github.com/mir-group/flare), and [code documentation](https://flare.readthedocs.io/en/latest/).\n",
    "\n"
   ]
  },
  {
   "cell_type": "markdown",
   "metadata": {
    "id": "XsHT0ojhOHzK"
   },
   "source": [
    "<img src=\"https://github.com/mir-group/APS-2020-FLARE-Tutorial/blob/master/Tutorial_Images/md_review.png?raw=true\" width=\"100%\">"
   ]
  },
  {
   "cell_type": "markdown",
   "metadata": {
    "id": "KjgnY7xyMbqN"
   },
   "source": [
    "<img src=\"https://github.com/mir-group/APS-2020-FLARE-Tutorial/blob/master/Tutorial_Images/flare_overview.png?raw=true\" width=\"100%\">"
   ]
  },
  {
   "cell_type": "markdown",
   "metadata": {
    "id": "vGnyg-MZveLF"
   },
   "source": [
    "### Installation"
   ]
  },
  {
   "cell_type": "markdown",
   "metadata": {
    "id": "HyKryc-Mvkf5"
   },
   "source": [
    "We can install FLARE and its dependencies here in Google Colab. (This will take about a minute.)"
   ]
  },
  {
   "cell_type": "code",
   "execution_count": null,
   "metadata": {
    "id": "j081chMvvjGM"
   },
   "outputs": [],
   "source": [
    "! pip install --upgrade mir-flare"
   ]
  },
  {
   "cell_type": "markdown",
   "metadata": {
    "id": "teewYv-1wKaC"
   },
   "source": [
    "Let's check that it worked by trying to import FLARE:"
   ]
  },
  {
   "cell_type": "code",
   "execution_count": 2,
   "metadata": {
    "id": "johWDfKEwMW_"
   },
   "outputs": [],
   "source": [
    "import flare"
   ]
  },
  {
   "cell_type": "markdown",
   "metadata": {
    "id": "GMXBZ-1iwXCo"
   },
   "source": [
    "If you don't see an error, you're all set for the tutorial! Let's also go ahead and import all the modules we'll need now:"
   ]
  },
  {
   "cell_type": "code",
   "execution_count": 3,
   "metadata": {
    "id": "g9ny8zihdStP"
   },
   "outputs": [],
   "source": [
    "from flare import gp, struc, output, predict, md, otf, env,\\\n",
    "  otf_parser\n",
    "from flare.kernels import mc_simple\n",
    "from flare.utils import md_helper\n",
    "\n",
    "import numpy as np\n",
    "import time\n",
    "import matplotlib.pyplot as plt\n",
    "import pickle\n",
    "from ase.visualize import view"
   ]
  },
  {
   "cell_type": "markdown",
   "metadata": {
    "id": "6Tc3YD4awVNJ"
   },
   "source": [
    "### Machine learned force fields"
   ]
  },
  {
   "cell_type": "markdown",
   "metadata": {
    "id": "alU2W7TJc5Lf"
   },
   "source": [
    "#### Training data"
   ]
  },
  {
   "cell_type": "markdown",
   "metadata": {
    "id": "GsTCK8eE7k_O"
   },
   "source": [
    "Let's start by downloading some _ab initio_ force data to play with."
   ]
  },
  {
   "cell_type": "code",
   "execution_count": null,
   "metadata": {
    "id": "jlDbThFGw7-0"
   },
   "outputs": [],
   "source": [
    "# download ab initio MD data\n",
    "! wget https://zenodo.org/record/3688843/files/AgI_data.zip?download=1\n",
    "\n",
    "# unzip the folder\n",
    "! unzip AgI_data.zip?download=1"
   ]
  },
  {
   "cell_type": "markdown",
   "metadata": {
    "id": "d0OSf5RynISB"
   },
   "source": [
    "The folder \"AgI_data\" contains data from an _ab initio_ molecular dynamics simulation of the fast-ion conductor silver iodide (AgI), where _ab initio_ means \"from the beginning\" or \"from first principles\". In other words, we simulate how the atoms move by calculating the quantum mechanical forces on the ions at every timestep using DFT. To give you a sense of how expensive that is, the ~2500 timesteps in this simulation (about 12 picoseconds of simulation time) required 2 days of wall time on 256 cpus. (And there were only 32 atoms in the simulation!)"
   ]
  },
  {
   "cell_type": "markdown",
   "metadata": {
    "id": "yizt6MKVnpP7"
   },
   "source": [
    "Let's load the positions, forces, cell, and species of the atoms in the simulation."
   ]
  },
  {
   "cell_type": "code",
   "execution_count": 5,
   "metadata": {
    "id": "POnrwXgnoHme"
   },
   "outputs": [],
   "source": [
    "# load AIMD training data\n",
    "data_directory = 'AgI_data/'\n",
    "species = np.load(data_directory + 'species.npy')  # atomic numbers of the atoms\n",
    "positions = np.load(data_directory + 'positions.npy')  # in angstrom (A)\n",
    "cell = np.load(data_directory + 'cell.npy')  # 3x3 array of cell vectors (in A)\n",
    "forces = np.load(data_directory + 'forces.npy')  # in eV/A"
   ]
  },
  {
   "cell_type": "markdown",
   "metadata": {
    "id": "1EKBa7D5tg48"
   },
   "source": [
    "#### Training a GP model."
   ]
  },
  {
   "cell_type": "markdown",
   "metadata": {
    "id": "uVS0cGEO7f76"
   },
   "source": [
    "<img src=\"https://github.com/mir-group/APS-2020-FLARE-Tutorial/blob/master/Tutorial_Images/n_body.png?raw=true\" width=\"100%\">"
   ]
  },
  {
   "cell_type": "markdown",
   "metadata": {
    "id": "DT3K2ZAsOefO"
   },
   "source": [
    "<img src=\"https://github.com/mir-group/APS-2020-FLARE-Tutorial/blob/master/Tutorial_Images/kernel.png?raw=true\" width=\"100%\">"
   ]
  },
  {
   "cell_type": "markdown",
   "metadata": {
    "id": "egbSwBOHO679"
   },
   "source": [
    "<img src=\"https://github.com/mir-group/APS-2020-FLARE-Tutorial/blob/master/Tutorial_Images/gpff.png?raw=true\" width=\"100%\">"
   ]
  },
  {
   "cell_type": "markdown",
   "metadata": {
    "id": "XqV1CwOedM2a"
   },
   "source": [
    "Let's train a GP model on the data. We'll first initialize a Gaussian process object, which involves choosing a kernel function and its gradient, an initial set of hyperparameters, and the cutoff radii of local environments. We'll use a 2+3-body kernel, which compares local environments by comparing the pairs and triplets of atoms inside the environments."
   ]
  },
  {
   "cell_type": "code",
   "execution_count": 6,
   "metadata": {
    "id": "HyS9uo3HuFHc"
   },
   "outputs": [],
   "source": [
    "# create a 2+3-body gaussian process object\n",
    "kernels = ['twobody', 'threebody']\n",
    "component = 'mc'\n",
    "hyps = np.array([0.1, 0.1, 0.1, 2.0, 0.5])  # initial (bad) choice of hyps\n",
    "cutoffs = {'twobody': 7.0, 'threebody': 5.5}  # cutoff radii in A\n",
    "maxiter = 100  # max number of hyperparameter optimization steps\n",
    "\n",
    "gp_model = gp.GaussianProcess(\n",
    "  kernels=kernels,\n",
    "  component=component,\n",
    "  hyps=hyps,\n",
    "  cutoffs=cutoffs,\n",
    "  maxiter=50\n",
    ")"
   ]
  },
  {
   "cell_type": "markdown",
   "metadata": {
    "id": "yHaJeGwGeVB0"
   },
   "source": [
    "Let's put a couple of structures into the training set."
   ]
  },
  {
   "cell_type": "code",
   "execution_count": 7,
   "metadata": {
    "id": "iaEZ-DCTu6Z9"
   },
   "outputs": [],
   "source": [
    "# put a few snapshots in the training set\n",
    "snapshots = [500, 1500]\n",
    "for snapshot in snapshots:\n",
    "    # create flare structure\n",
    "    training_positions = positions[snapshot]\n",
    "    training_forces = forces[snapshot]\n",
    "    training_structure = struc.Structure(cell, species, training_positions)\n",
    "\n",
    "    # add the structure to the training set of the GP\n",
    "    gp_model.update_db(training_structure, training_forces)\n",
    "\n",
    "gp_model.set_L_alpha()"
   ]
  },
  {
   "cell_type": "markdown",
   "metadata": {
    "id": "_-TBgAFahaJZ"
   },
   "source": [
    "The \"set_L_alpha\" method updates the covariance matrix of the GP, computes the alpha vector used to make predictions, and computes the log marginal likelihood of the training data. Let's see what that looks like: "
   ]
  },
  {
   "cell_type": "code",
   "execution_count": 8,
   "metadata": {
    "colab": {
     "base_uri": "https://localhost:8080/",
     "height": 34
    },
    "id": "sRH0jj1YekaW",
    "outputId": "348c6e77-ef37-4348-89f1-24294693c4b5"
   },
   "outputs": [
    {
     "name": "stdout",
     "output_type": "stream",
     "text": [
      "-491.75669961275526\n"
     ]
    }
   ],
   "source": [
    "print(gp_model.likelihood)"
   ]
  },
  {
   "cell_type": "markdown",
   "metadata": {
    "id": "xYcSuYmehyNI"
   },
   "source": [
    "This is too low, suggesting that our initial guess for the hyperparameters was not a good one."
   ]
  },
  {
   "cell_type": "markdown",
   "metadata": {
    "id": "-YYU3fQFh8t2"
   },
   "source": [
    "#### Task: Find hyperparameters that give a positive log marginal likelihood."
   ]
  },
  {
   "cell_type": "markdown",
   "metadata": {
    "id": "LX78w6jgiKP0"
   },
   "source": [
    "Hint: For the 2+3-body kernel, the hyperparameters are in the following order:\n",
    "* Signal variance of the 2-body kernel (in eV)\n",
    "* Length scale of the 2-body kernel (in A)\n",
    "* Signal variance of the 3-body kernel (in eV)\n",
    "* Length scale of the 3-body kernel (in A)\n",
    "* Noise hyperparameter (in eV/A)\n",
    "\n",
    "What is a plausible length scale for this problem? Note that machine learned force fields typically have errors in the range 50-200 meV/A, and the energy of a pair or triplet is much less than the total local energy assigned to an atom."
   ]
  },
  {
   "cell_type": "code",
   "execution_count": null,
   "metadata": {
    "id": "9V1OB1BJii1U"
   },
   "outputs": [],
   "source": [
    "# your code here\n",
    "\n",
    "# hint: reset the hyperparameters with gp_model.hyps = *new hyps*, then use\n",
    "# set_L_alpha to recompute the likelihood"
   ]
  },
  {
   "cell_type": "markdown",
   "metadata": {
    "id": "GeS6kyP8jBLX"
   },
   "source": [
    "#### Solution"
   ]
  },
  {
   "cell_type": "markdown",
   "metadata": {
    "id": "_y3CcbPRjHjH"
   },
   "source": [
    "A reasonable guess for the length scale is 1 A, and since errors are  often around 0.1 eV/A, we'll choose that as our noise level. The signal variances require some tuning, but we should expect them to be significantly less than 1 eV, with the triplet contribution significantly smaller than the pair contribution."
   ]
  },
  {
   "cell_type": "code",
   "execution_count": 9,
   "metadata": {
    "colab": {
     "base_uri": "https://localhost:8080/",
     "height": 34
    },
    "id": "nZmaqP6XjNYR",
    "outputId": "5d6b246b-f38a-41e6-bfdd-8c7537625c70"
   },
   "outputs": [
    {
     "name": "stdout",
     "output_type": "stream",
     "text": [
      "9.500574018895804\n"
     ]
    }
   ],
   "source": [
    "gp_model.hyps = np.array([0.01, 1, 0.001, 1, 0.2])\n",
    "gp_model.set_L_alpha()\n",
    "print(gp_model.likelihood)"
   ]
  },
  {
   "cell_type": "markdown",
   "metadata": {
    "id": "EfAsmRWVkYtS"
   },
   "source": [
    "#### Optimizing the hyperparameters rigorously"
   ]
  },
  {
   "cell_type": "markdown",
   "metadata": {
    "id": "Xq2sZI1PkdkS"
   },
   "source": [
    "The above was an exercise in manual hyperparameter tuning, which is tedious and should be avoided if possible. Because we can compute the gradient of the likelihood with respect to the hyperparameters, we can instead use a more principled gradient descent approach to find the best set of hyperparameters."
   ]
  },
  {
   "cell_type": "code",
   "execution_count": null,
   "metadata": {
    "id": "7slPPfgwebdA"
   },
   "outputs": [],
   "source": [
    "# optimize the hyperparameters (this will take some time!)\n",
    "gp_model.train(print_progress=True)"
   ]
  },
  {
   "cell_type": "markdown",
   "metadata": {
    "id": "yMYXaRb8lLmV"
   },
   "source": [
    "In case you don't want to wait, here are some good values:"
   ]
  },
  {
   "cell_type": "code",
   "execution_count": 10,
   "metadata": {
    "colab": {
     "base_uri": "https://localhost:8080/",
     "height": 34
    },
    "id": "T4lKRPJQlsLm",
    "outputId": "9a297ba1-423f-43b4-e72f-893d7ea18b4a"
   },
   "outputs": [
    {
     "name": "stdout",
     "output_type": "stream",
     "text": [
      "71.16991245736048\n"
     ]
    }
   ],
   "source": [
    "gp_model.hyps = np.array([1.59612454e-02, 5.70104540e-01, 6.01290125e-04,\n",
    "                          9.17243358e-01, 1.09666317e-01])\n",
    "gp_model.set_L_alpha()\n",
    "print(gp_model.likelihood)"
   ]
  },
  {
   "cell_type": "markdown",
   "metadata": {
    "id": "k86d8fRy11fL"
   },
   "source": [
    "#### Calculating the learning curve"
   ]
  },
  {
   "cell_type": "markdown",
   "metadata": {
    "id": "_GHQ9495nDNh"
   },
   "source": [
    "Let's get a feel for how much data the model needs by computing the learning curve, i.e. the performance on a validation set as a function of the number of training points. Let's create training and validation structures drawn from the AIMD simulation."
   ]
  },
  {
   "cell_type": "code",
   "execution_count": 11,
   "metadata": {
    "id": "BoUg2GzBqcjW"
   },
   "outputs": [],
   "source": [
    "# choose a training snapshot\n",
    "training_snapshot = 500\n",
    "training_positions = positions[training_snapshot]\n",
    "training_forces = forces[training_snapshot]\n",
    "training_structure = struc.Structure(cell, species, training_positions)\n",
    "\n",
    "# choose a validation snapshot\n",
    "validation_snapshot = 2300\n",
    "validation_positions = positions[validation_snapshot]\n",
    "validation_forces = forces[validation_snapshot]\n",
    "validation_structure = struc.Structure(cell, species, validation_positions)"
   ]
  },
  {
   "cell_type": "markdown",
   "metadata": {
    "id": "NAMI7wJwrH5B"
   },
   "source": [
    "We now loop over the atomic environments in the training structure and add them one by one to the training set of the GP model. After adding an environment, we predict all the forces on the validation structure and compute the MAE. We'll also time the prediction step to get a feel for how the cost of GP predictions depends on the size of the training set."
   ]
  },
  {
   "cell_type": "code",
   "execution_count": 12,
   "metadata": {
    "colab": {
     "base_uri": "https://localhost:8080/",
     "height": 578
    },
    "id": "jvpor2DOsly_",
    "outputId": "28d01b22-3115-46a4-e7fb-943edf88ab79"
   },
   "outputs": [
    {
     "name": "stdout",
     "output_type": "stream",
     "text": [
      "computing validation errors...\n",
      "0.315073761272364\n",
      "0.29588515439108337\n",
      "0.3234313322939279\n",
      "0.29323785059806706\n",
      "0.20129532813447323\n",
      "0.19131142668143372\n",
      "0.1827709765647784\n",
      "0.17610478136490326\n",
      "0.16902120241436183\n",
      "0.17466172091548085\n",
      "0.16829757387913633\n",
      "0.16823160886145053\n",
      "0.1797266370933175\n",
      "0.17570045468126091\n",
      "0.1778018841113225\n",
      "0.16181457527423726\n",
      "0.15221658747132247\n",
      "0.151463002400943\n",
      "0.15330262545396417\n",
      "0.14366990594229426\n",
      "0.13955981466966869\n",
      "0.1386958938185947\n",
      "0.13337032134291107\n",
      "0.13856470639127907\n",
      "0.13934854695295343\n",
      "0.1384439054077334\n",
      "0.1376182149699538\n",
      "0.1398980197468981\n",
      "0.13878505117526346\n",
      "0.13947592439212986\n",
      "0.14140188721074384\n",
      "0.14095157040791634\n"
     ]
    }
   ],
   "source": [
    "# reset the gp with hyperparameters fixed to the optimized values\n",
    "hyps_final = gp_model.hyps\n",
    "gp_model = gp.GaussianProcess(\n",
    "  kernels=kernels,\n",
    "  component=component,\n",
    "  hyps=hyps,\n",
    "  cutoffs=cutoffs,\n",
    "  maxiter=50\n",
    ")\n",
    "gp_model.hyps = hyps_final\n",
    "\n",
    "# add atomic environments one by one to the training set\n",
    "n_atoms = 32  # number of atoms in the structure\n",
    "validation_errors = np.zeros(n_atoms)\n",
    "prediction_times = np.zeros(n_atoms)\n",
    "validation_count = 0\n",
    "\n",
    "print('computing validation errors...')\n",
    "for n, atom in enumerate(range(n_atoms)):\n",
    "    # add the current atomic environment to the training set\n",
    "    gp_model.update_db(training_structure, training_forces,\n",
    "                        custom_range=[atom])\n",
    "    gp_model.set_L_alpha()\n",
    "\n",
    "    # predict the forces on the validation structure\n",
    "    time0 = time.time()\n",
    "    pred_forces, stds = \\\n",
    "        predict.predict_on_structure(validation_structure, gp_model)\n",
    "    time1 = time.time()\n",
    "\n",
    "    mae = np.mean(np.abs(pred_forces - validation_forces))\n",
    "    validation_errors[validation_count] = mae\n",
    "    prediction_times[validation_count] = time1 - time0\n",
    "    validation_count += 1\n",
    "\n",
    "    print(mae)"
   ]
  },
  {
   "cell_type": "markdown",
   "metadata": {
    "id": "z5GLpahJt5jU"
   },
   "source": [
    "Let's make a plot of the results."
   ]
  },
  {
   "cell_type": "code",
   "execution_count": 13,
   "metadata": {
    "colab": {
     "base_uri": "https://localhost:8080/",
     "height": 542
    },
    "id": "P6u24jtwsBuT",
    "outputId": "540fe26f-163e-43c2-f1bc-12e4ac985ea7"
   },
   "outputs": [
    {
     "data": {
      "image/png": "[encoded data removed]",
      "text/plain": [
       "<Figure size 432x288 with 1 Axes>"
      ]
     },
     "metadata": {
      "needs_background": "light",
      "tags": []
     },
     "output_type": "display_data"
    },
    {
     "data": {
      "image/png": "[encoded data removed]",
      "text/plain": [
       "<Figure size 432x288 with 1 Axes>"
      ]
     },
     "metadata": {
      "needs_background": "light",
      "tags": []
     },
     "output_type": "display_data"
    }
   ],
   "source": [
    "plt.plot(validation_errors)\n",
    "plt.xlabel('number of training environments')\n",
    "plt.ylabel('mae on validation structure (eV/$\\AA$)')\n",
    "plt.show()\n",
    "\n",
    "plt.plot(prediction_times)\n",
    "plt.xlabel('number of training environments')\n",
    "plt.ylabel('prediction wall time (s)')\n",
    "plt.show()"
   ]
  },
  {
   "cell_type": "markdown",
   "metadata": {
    "id": "wsJUUVBiuBPZ"
   },
   "source": [
    "Notice that the prediction time grows roughly linearly with the number of training environments."
   ]
  },
  {
   "cell_type": "markdown",
   "metadata": {
    "id": "dR-0VO_K7N-r"
   },
   "source": [
    "<img src=\"https://github.com/mir-group/APS-2020-FLARE-Tutorial/blob/master/Tutorial_Images/pd_ag_1.png?raw=true\" width=\"100%\">"
   ]
  },
  {
   "cell_type": "markdown",
   "metadata": {
    "id": "f1pSbziN7RWf"
   },
   "source": [
    "<img src=\"https://github.com/mir-group/APS-2020-FLARE-Tutorial/blob/master/Tutorial_Images/pd_ag_2.png?raw=true\" width=\"100%\">"
   ]
  },
  {
   "cell_type": "markdown",
   "metadata": {
    "id": "ox6phwrb7UPn"
   },
   "source": [
    "<img src=\"https://github.com/mir-group/APS-2020-FLARE-Tutorial/blob/master/Tutorial_Images/pd_ag_3.png?raw=true\" width=\"100%\">"
   ]
  },
  {
   "cell_type": "markdown",
   "metadata": {
    "id": "PCFBHloyw_wD"
   },
   "source": [
    "### Learning a force field on the fly"
   ]
  },
  {
   "cell_type": "markdown",
   "metadata": {
    "id": "xHs1LGUs71-8"
   },
   "source": [
    "<img src=\"https://github.com/mir-group/APS-2020-FLARE-Tutorial/blob/master/Tutorial_Images/flowchart.png?raw=true\" width=\"70%\">"
   ]
  },
  {
   "cell_type": "markdown",
   "metadata": {
    "id": "4Q4fWYdcRQO9"
   },
   "source": [
    "#### The Lennard Jones Potential"
   ]
  },
  {
   "cell_type": "markdown",
   "metadata": {
    "id": "J0NkHAJ-RTOw"
   },
   "source": [
    "In production FLARE runs, we make calls to a DFT solver like Quantum Espresso, VASP, or CP2K whenever the uncertainty on a force component is unacceptably high. In principle, the forces can come from anywhere, and FLARE allows users to write a custom solver that returns forces on an arbitrary input structure.\n",
    "\n",
    "Here, we'll define a simple custom solver that returns Lennard Jones forces, and then try to reconstruct the potential on the fly.\n",
    "\n",
    "The Lennard Jones potential takes the following form:\n",
    "\\begin{equation}\n",
    "V_{\\text{LJ}} = 4\\epsilon \\left[ \\left(\\frac{\\sigma}{r} \\right)^{12} - \\left(\\frac{\\sigma}{r}\\right)^{6} \\right].\n",
    "\\end{equation}"
   ]
  },
  {
   "cell_type": "markdown",
   "metadata": {
    "id": "MgcREyDYUvZn"
   },
   "source": [
    "Let's define our custom solver. To do this, we need to create a class with two methods:\n",
    "\n",
    "* parse_dft_input: Takes the name of an input file, and returns the positions, species, cell, and masses of the atoms specified in the input file.\n",
    "\n",
    "* run_dft_par: Takes a FLARE structure and an optional dictionary of keywords, and returns the forces on the atoms."
   ]
  },
  {
   "cell_type": "markdown",
   "metadata": {
    "id": "uR0vNVOruNv2"
   },
   "source": [
    "We'll make a multi-species Lennard Jones function, which allows different values of $\\sigma$ and $\\epsilon$ for different pairs of species. We'll store these as 2-D numpy arrays, so that, e.g., the $\\sigma$ value assigned to species 1 and 3 is stored in element (1, 3) of this array."
   ]
  },
  {
   "cell_type": "markdown",
   "metadata": {
    "id": "rjYaUuIUY1LV"
   },
   "source": [
    "The derivative of the Lennard Jones potential with respect to $r$ is:\n",
    "\n",
    "\\begin{equation}\n",
    "\\frac{dV_{\\text{LJ}}}{dr} = 4\\epsilon \\left[ -\\frac{12 \\sigma^{12}}{r^{13}} +\\frac{6 \\sigma^6}{r^7} \\right].\n",
    "\\end{equation}"
   ]
  },
  {
   "cell_type": "code",
   "execution_count": 14,
   "metadata": {
    "id": "Ha1km1AIXzI1"
   },
   "outputs": [],
   "source": [
    "def get_LJ_forces(structure, lj_parameters):\n",
    "  \"\"\"Calculate multicomponent Lennard Jones forces on a structure of atoms.\n",
    "  dft_kwargs is assumed to be a dictionary containing the cutoff, an ordered\n",
    "  list of species, and arrays containing epsilon and sigma values.\"\"\"\n",
    "\n",
    "  cutoff = lj_parameters['cutoff']\n",
    "  epsilons = lj_parameters['epsilons']\n",
    "  sigmas = lj_parameters['sigmas']\n",
    "  spec_list = lj_parameters['species']\n",
    "\n",
    "  forces = np.zeros((structure.nat, 3))\n",
    "  # Loop over atoms in the structure.\n",
    "  for m in range(structure.nat):\n",
    "      # Create atomic environment.\n",
    "      environment = env.AtomicEnvironment(structure, m, np.array([cutoff]))\n",
    "      ind1 = spec_list.index(environment.ctype)\n",
    "\n",
    "      # Loop over atoms in the environment to compute the total force.\n",
    "      for n in range(len(environment.etypes)):\n",
    "          ind2 = spec_list.index(environment.etypes[n])\n",
    "          eps = epsilons[ind1, ind2]\n",
    "          sig = sigmas[ind1, ind2]\n",
    "\n",
    "          # Compute LJ force.\n",
    "          bond_vals = environment.bond_array_2[n]\n",
    "          r = bond_vals[0]\n",
    "\n",
    "          dE_dr = 4 * eps * (-12 * sig ** 12 / (r ** 13) +\n",
    "                             6 * sig ** 6 / (r ** 7))\n",
    "\n",
    "          forces[m, 0] += dE_dr * bond_vals[1]\n",
    "          forces[m, 1] += dE_dr * bond_vals[2]\n",
    "          forces[m, 2] += dE_dr * bond_vals[3]\n",
    "\n",
    "  return forces"
   ]
  },
  {
   "cell_type": "markdown",
   "metadata": {
    "id": "S4Zy-VyRfRtG"
   },
   "source": [
    "We can use our Lennard Jones force function to define a custom module."
   ]
  },
  {
   "cell_type": "code",
   "execution_count": 15,
   "metadata": {
    "id": "ptX61cWyxBtA"
   },
   "outputs": [],
   "source": [
    "# create lj module\n",
    "class lj_module:\n",
    "  def parse_dft_input(file_name):\n",
    "      \"\"\"We assume the input is a pickled dictionary containing positions\n",
    "      (in angstrom), species (as a list of strings), cell (as a 3x3 matrix of\n",
    "      cell vectors), and masses (as a dictionary assigning each species a mass\n",
    "      in AMU).\"\"\"\n",
    "\n",
    "      input_file = open(file_name, 'rb')\n",
    "      struc_dict = pickle.load(input_file)\n",
    "      input_file.close()\n",
    "\n",
    "      # Convert masses to MD units (energy = eV, length = A, )\n",
    "      masses = struc_dict['masses']\n",
    "      mass_convert = 0.000103642695727\n",
    "      for species in masses:\n",
    "          masses[species] *= mass_convert\n",
    "\n",
    "      return struc_dict['positions'], struc_dict['species'], \\\n",
    "          struc_dict['cell'], masses\n",
    "\n",
    "  def run_dft_par(dft_input=None, structure=None, dft_loc=None, n_cpus=None,\n",
    "                npool=None, mpi=None, dft_kwargs=None, dft_out=None):\n",
    "    return get_LJ_forces(structure, dft_kwargs)"
   ]
  },
  {
   "cell_type": "code",
   "execution_count": 16,
   "metadata": {
    "id": "_8H4oLv94KDF"
   },
   "outputs": [],
   "source": [
    "# create dictionary of lj parameters\n",
    "cutoff = 5.\n",
    "epsilons = np.array([[3, 2.5], [2.5, 3.]])\n",
    "sigmas = np.array([[2.0, 1.9], [1.9, 2.1]])\n",
    "spec_list = [47, 53]  # silver and iodine atomic numbers\n",
    "\n",
    "lj_params = {'cutoff': cutoff, 'epsilons': epsilons, 'sigmas': sigmas,\n",
    "             'species': spec_list}"
   ]
  },
  {
   "cell_type": "code",
   "execution_count": 17,
   "metadata": {
    "colab": {
     "base_uri": "https://localhost:8080/",
     "height": 289
    },
    "id": "wvo_ntrinEyK",
    "outputId": "e8c7ad99-11a2-4cbf-8752-35f46de8af96"
   },
   "outputs": [
    {
     "data": {
      "image/png": "[encoded data removed]",
      "text/plain": [
       "<Figure size 432x288 with 1 Axes>"
      ]
     },
     "metadata": {
      "needs_background": "light",
      "tags": []
     },
     "output_type": "display_data"
    }
   ],
   "source": [
    "# create structures of 2 atoms, and plot the force on the second atom\n",
    "cell = np.eye(3) * 1000\n",
    "seps = np.arange(2, 5, 0.01)\n",
    "specs = [[47, 47], [47, 53], [53, 53]]\n",
    "store_frcs = np.zeros((3, len(seps)))\n",
    "for m, sep in enumerate(seps):\n",
    "    pos = np.array([[0, 0, 0], [sep, 0, 0]])\n",
    "    for n, spec_curr in enumerate(specs):\n",
    "        struc_curr = struc.Structure(cell, spec_curr, pos)\n",
    "        frcs = \\\n",
    "            lj_module.run_dft_par(structure=struc_curr, dft_kwargs=lj_params)\n",
    "        store_frcs[n, m] = frcs[1, 0]\n",
    "\n",
    "plt.plot(seps, store_frcs[0], label='sig = 2.0, eps = 3.0')\n",
    "plt.plot(seps, store_frcs[1], label='sig = 1.5, eps = 1.8')\n",
    "plt.plot(seps, store_frcs[2], label='sig = 1.0, eps = 1.0')\n",
    "plt.xlim(2, 4)\n",
    "plt.ylim(-4, 4)\n",
    "plt.xlabel('separation ($\\AA$)')\n",
    "plt.ylabel('force (eV/$\\AA$)')\n",
    "plt.legend()\n",
    "plt.show()"
   ]
  },
  {
   "cell_type": "markdown",
   "metadata": {
    "id": "rzOBo-6tfn1y"
   },
   "source": [
    "#### Perform an on-the-fly training simulation."
   ]
  },
  {
   "cell_type": "markdown",
   "metadata": {
    "id": "7H3ShRCVpBWN"
   },
   "source": [
    "#### Step 1: Set up the initial structure."
   ]
  },
  {
   "cell_type": "markdown",
   "metadata": {
    "id": "1lnkDIvmhEQQ"
   },
   "source": [
    " Let's create a bcc (body centered cubic) Lennard Jones crystal."
   ]
  },
  {
   "cell_type": "code",
   "execution_count": 18,
   "metadata": {
    "id": "391yPEiYrD70"
   },
   "outputs": [],
   "source": [
    "# create bcc unit cell\n",
    "alat = 2.54\n",
    "unit_cell = np.eye(3) * alat\n",
    "\n",
    "# define bcc positions\n",
    "unit_positions = np.array([[0, 0, 0],\n",
    "                           [1/2, 1/2, 1/2]]) * alat\n",
    "\n",
    "# make a supercell\n",
    "sc_size = 3\n",
    "positions = md_helper.get_supercell_positions(sc_size, unit_cell, unit_positions)\n",
    "cell = unit_cell * sc_size\n",
    "\n",
    "# jitter positions to give nonzero force on first frame\n",
    "for atom_pos in positions:\n",
    "    for coord in range(3):\n",
    "        atom_pos[coord] += (2*np.random.random()-1) * 0.05\n",
    "\n",
    "# create initial structure\n",
    "species = ['Ag', 'I'] * sc_size ** 3\n",
    "struc_curr = struc.Structure(cell, species, positions)\n",
    "\n",
    "# create pseudo input file\n",
    "mass_dictionary = {'Ag': 108, 'I': 127}\n",
    "input_dictionary = {'positions': positions, 'species': species, 'cell': cell,\n",
    "                    'masses': mass_dictionary}\n",
    "input_file_name = 'lj.in'\n",
    "with open(input_file_name, 'wb') as input_file:\n",
    "    pickle.dump(input_dictionary, input_file)"
   ]
  },
  {
   "cell_type": "code",
   "execution_count": 19,
   "metadata": {
    "colab": {
     "base_uri": "https://localhost:8080/",
     "height": 617
    },
    "id": "WOXg1lAXA9tk",
    "outputId": "af08801f-3826-4cb5-bf93-eeef06b0adbf"
   },
   "outputs": [
    {
     "data": {
      "text/html": [
       "<html>\n",
       "\n",
       " <head>\n",
       "\n",
       "  <title>ASE atomic visualization</title>\n",
       "\n",
       "  <link rel=\"stylesheet\" type=\"text/css\"\n",
       "\n",
       "   href=\"https://www.x3dom.org/x3dom/release/x3dom.css\">\n",
       "\n",
       "  </link>\n",
       "\n",
       "  <script type=\"text/javascript\"\n",
       "\n",
       "   src=\"https://www.x3dom.org/x3dom/release/x3dom.js\">\n",
       "\n",
       "  </script>\n",
       "\n",
       " </head>\n",
       "\n",
       " <body>\n",
       "\n",
       "  <X3D>\n",
       "\n",
       "   <Scene>\n",
       "\n",
       "    <Transform translation=\"0.01 -0.05 -0.01\">\n",
       "\n",
       "     <Shape>\n",
       "\n",
       "      <Appearance>\n",
       "\n",
       "       <Material diffuseColor=\"0.753 0.753 0.753\" specularColor=\"0.5 0.5 0.5\">\n",
       "\n",
       "       </Material>\n",
       "\n",
       "      </Appearance>\n",
       "\n",
       "      <Sphere radius=\"1.45\">\n",
       "\n",
       "      </Sphere>\n",
       "\n",
       "     </Shape>\n",
       "\n",
       "    </Transform>\n",
       "\n",
       "    <Transform translation=\"1.26 1.30 1.27\">\n",
       "\n",
       "     <Shape>\n",
       "\n",
       "      <Appearance>\n",
       "\n",
       "       <Material diffuseColor=\"0.580 0.000 0.580\" specularColor=\"0.5 0.5 0.5\">\n",
       "\n",
       "       </Material>\n",
       "\n",
       "      </Appearance>\n",
       "\n",
       "      <Sphere radius=\"1.39\">\n",
       "\n",
       "      </Sphere>\n",
       "\n",
       "     </Shape>\n",
       "\n",
       "    </Transform>\n",
       "\n",
       "    <Transform translation=\"0.04 -0.00 2.56\">\n",
       "\n",
       "     <Shape>\n",
       "\n",
       "      <Appearance>\n",
       "\n",
       "       <Material diffuseColor=\"0.753 0.753 0.753\" specularColor=\"0.5 0.5 0.5\">\n",
       "\n",
       "       </Material>\n",
       "\n",
       "      </Appearance>\n",
       "\n",
       "      <Sphere radius=\"1.45\">\n",
       "\n",
       "      </Sphere>\n",
       "\n",
       "     </Shape>\n",
       "\n",
       "    </Transform>\n",
       "\n",
       "    <Transform translation=\"1.29 1.29 3.83\">\n",
       "\n",
       "     <Shape>\n",
       "\n",
       "      <Appearance>\n",
       "\n",
       "       <Material diffuseColor=\"0.580 0.000 0.580\" specularColor=\"0.5 0.5 0.5\">\n",
       "\n",
       "       </Material>\n",
       "\n",
       "      </Appearance>\n",
       "\n",
       "      <Sphere radius=\"1.39\">\n",
       "\n",
       "      </Sphere>\n",
       "\n",
       "     </Shape>\n",
       "\n",
       "    </Transform>\n",
       "\n",
       "    <Transform translation=\"0.03 -0.00 5.08\">\n",
       "\n",
       "     <Shape>\n",
       "\n",
       "      <Appearance>\n",
       "\n",
       "       <Material diffuseColor=\"0.753 0.753 0.753\" specularColor=\"0.5 0.5 0.5\">\n",
       "\n",
       "       </Material>\n",
       "\n",
       "      </Appearance>\n",
       "\n",
       "      <Sphere radius=\"1.45\">\n",
       "\n",
       "      </Sphere>\n",
       "\n",
       "     </Shape>\n",
       "\n",
       "    </Transform>\n",
       "\n",
       "    <Transform translation=\"1.26 1.23 6.31\">\n",
       "\n",
       "     <Shape>\n",
       "\n",
       "      <Appearance>\n",
       "\n",
       "       <Material diffuseColor=\"0.580 0.000 0.580\" specularColor=\"0.5 0.5 0.5\">\n",
       "\n",
       "       </Material>\n",
       "\n",
       "      </Appearance>\n",
       "\n",
       "      <Sphere radius=\"1.39\">\n",
       "\n",
       "      </Sphere>\n",
       "\n",
       "     </Shape>\n",
       "\n",
       "    </Transform>\n",
       "\n",
       "    <Transform translation=\"0.04 2.52 0.04\">\n",
       "\n",
       "     <Shape>\n",
       "\n",
       "      <Appearance>\n",
       "\n",
       "       <Material diffuseColor=\"0.753 0.753 0.753\" specularColor=\"0.5 0.5 0.5\">\n",
       "\n",
       "       </Material>\n",
       "\n",
       "      </Appearance>\n",
       "\n",
       "      <Sphere radius=\"1.45\">\n",
       "\n",
       "      </Sphere>\n",
       "\n",
       "     </Shape>\n",
       "\n",
       "    </Transform>\n",
       "\n",
       "    <Transform translation=\"1.23 3.85 1.30\">\n",
       "\n",
       "     <Shape>\n",
       "\n",
       "      <Appearance>\n",
       "\n",
       "       <Material diffuseColor=\"0.580 0.000 0.580\" specularColor=\"0.5 0.5 0.5\">\n",
       "\n",
       "       </Material>\n",
       "\n",
       "      </Appearance>\n",
       "\n",
       "      <Sphere radius=\"1.39\">\n",
       "\n",
       "      </Sphere>\n",
       "\n",
       "     </Shape>\n",
       "\n",
       "    </Transform>\n",
       "\n",
       "    <Transform translation=\"-0.01 2.56 2.57\">\n",
       "\n",
       "     <Shape>\n",
       "\n",
       "      <Appearance>\n",
       "\n",
       "       <Material diffuseColor=\"0.753 0.753 0.753\" specularColor=\"0.5 0.5 0.5\">\n",
       "\n",
       "       </Material>\n",
       "\n",
       "      </Appearance>\n",
       "\n",
       "      <Sphere radius=\"1.45\">\n",
       "\n",
       "      </Sphere>\n",
       "\n",
       "     </Shape>\n",
       "\n",
       "    </Transform>\n",
       "\n",
       "    <Transform translation=\"1.28 3.77 3.85\">\n",
       "\n",
       "     <Shape>\n",
       "\n",
       "      <Appearance>\n",
       "\n",
       "       <Material diffuseColor=\"0.580 0.000 0.580\" specularColor=\"0.5 0.5 0.5\">\n",
       "\n",
       "       </Material>\n",
       "\n",
       "      </Appearance>\n",
       "\n",
       "      <Sphere radius=\"1.39\">\n",
       "\n",
       "      </Sphere>\n",
       "\n",
       "     </Shape>\n",
       "\n",
       "    </Transform>\n",
       "\n",
       "    <Transform translation=\"0.01 2.54 5.09\">\n",
       "\n",
       "     <Shape>\n",
       "\n",
       "      <Appearance>\n",
       "\n",
       "       <Material diffuseColor=\"0.753 0.753 0.753\" specularColor=\"0.5 0.5 0.5\">\n",
       "\n",
       "       </Material>\n",
       "\n",
       "      </Appearance>\n",
       "\n",
       "      <Sphere radius=\"1.45\">\n",
       "\n",
       "      </Sphere>\n",
       "\n",
       "     </Shape>\n",
       "\n",
       "    </Transform>\n",
       "\n",
       "    <Transform translation=\"1.26 3.82 6.40\">\n",
       "\n",
       "     <Shape>\n",
       "\n",
       "      <Appearance>\n",
       "\n",
       "       <Material diffuseColor=\"0.580 0.000 0.580\" specularColor=\"0.5 0.5 0.5\">\n",
       "\n",
       "       </Material>\n",
       "\n",
       "      </Appearance>\n",
       "\n",
       "      <Sphere radius=\"1.39\">\n",
       "\n",
       "      </Sphere>\n",
       "\n",
       "     </Shape>\n",
       "\n",
       "    </Transform>\n",
       "\n",
       "    <Transform translation=\"-0.00 5.11 0.03\">\n",
       "\n",
       "     <Shape>\n",
       "\n",
       "      <Appearance>\n",
       "\n",
       "       <Material diffuseColor=\"0.753 0.753 0.753\" specularColor=\"0.5 0.5 0.5\">\n",
       "\n",
       "       </Material>\n",
       "\n",
       "      </Appearance>\n",
       "\n",
       "      <Sphere radius=\"1.45\">\n",
       "\n",
       "      </Sphere>\n",
       "\n",
       "     </Shape>\n",
       "\n",
       "    </Transform>\n",
       "\n",
       "    <Transform translation=\"1.28 6.34 1.27\">\n",
       "\n",
       "     <Shape>\n",
       "\n",
       "      <Appearance>\n",
       "\n",
       "       <Material diffuseColor=\"0.580 0.000 0.580\" specularColor=\"0.5 0.5 0.5\">\n",
       "\n",
       "       </Material>\n",
       "\n",
       "      </Appearance>\n",
       "\n",
       "      <Sphere radius=\"1.39\">\n",
       "\n",
       "      </Sphere>\n",
       "\n",
       "     </Shape>\n",
       "\n",
       "    </Transform>\n",
       "\n",
       "    <Transform translation=\"0.01 5.11 2.55\">\n",
       "\n",
       "     <Shape>\n",
       "\n",
       "      <Appearance>\n",
       "\n",
       "       <Material diffuseColor=\"0.753 0.753 0.753\" specularColor=\"0.5 0.5 0.5\">\n",
       "\n",
       "       </Material>\n",
       "\n",
       "      </Appearance>\n",
       "\n",
       "      <Sphere radius=\"1.45\">\n",
       "\n",
       "      </Sphere>\n",
       "\n",
       "     </Shape>\n",
       "\n",
       "    </Transform>\n",
       "\n",
       "    <Transform translation=\"1.30 6.34 3.83\">\n",
       "\n",
       "     <Shape>\n",
       "\n",
       "      <Appearance>\n",
       "\n",
       "       <Material diffuseColor=\"0.580 0.000 0.580\" specularColor=\"0.5 0.5 0.5\">\n",
       "\n",
       "       </Material>\n",
       "\n",
       "      </Appearance>\n",
       "\n",
       "      <Sphere radius=\"1.39\">\n",
       "\n",
       "      </Sphere>\n",
       "\n",
       "     </Shape>\n",
       "\n",
       "    </Transform>\n",
       "\n",
       "    <Transform translation=\"-0.02 5.11 5.06\">\n",
       "\n",
       "     <Shape>\n",
       "\n",
       "      <Appearance>\n",
       "\n",
       "       <Material diffuseColor=\"0.753 0.753 0.753\" specularColor=\"0.5 0.5 0.5\">\n",
       "\n",
       "       </Material>\n",
       "\n",
       "      </Appearance>\n",
       "\n",
       "      <Sphere radius=\"1.45\">\n",
       "\n",
       "      </Sphere>\n",
       "\n",
       "     </Shape>\n",
       "\n",
       "    </Transform>\n",
       "\n",
       "    <Transform translation=\"1.30 6.30 6.37\">\n",
       "\n",
       "     <Shape>\n",
       "\n",
       "      <Appearance>\n",
       "\n",
       "       <Material diffuseColor=\"0.580 0.000 0.580\" specularColor=\"0.5 0.5 0.5\">\n",
       "\n",
       "       </Material>\n",
       "\n",
       "      </Appearance>\n",
       "\n",
       "      <Sphere radius=\"1.39\">\n",
       "\n",
       "      </Sphere>\n",
       "\n",
       "     </Shape>\n",
       "\n",
       "    </Transform>\n",
       "\n",
       "    <Transform translation=\"2.54 0.03 0.04\">\n",
       "\n",
       "     <Shape>\n",
       "\n",
       "      <Appearance>\n",
       "\n",
       "       <Material diffuseColor=\"0.753 0.753 0.753\" specularColor=\"0.5 0.5 0.5\">\n",
       "\n",
       "       </Material>\n",
       "\n",
       "      </Appearance>\n",
       "\n",
       "      <Sphere radius=\"1.45\">\n",
       "\n",
       "      </Sphere>\n",
       "\n",
       "     </Shape>\n",
       "\n",
       "    </Transform>\n",
       "\n",
       "    <Transform translation=\"3.79 1.27 1.31\">\n",
       "\n",
       "     <Shape>\n",
       "\n",
       "      <Appearance>\n",
       "\n",
       "       <Material diffuseColor=\"0.580 0.000 0.580\" specularColor=\"0.5 0.5 0.5\">\n",
       "\n",
       "       </Material>\n",
       "\n",
       "      </Appearance>\n",
       "\n",
       "      <Sphere radius=\"1.39\">\n",
       "\n",
       "      </Sphere>\n",
       "\n",
       "     </Shape>\n",
       "\n",
       "    </Transform>\n",
       "\n",
       "    <Transform translation=\"2.57 0.03 2.56\">\n",
       "\n",
       "     <Shape>\n",
       "\n",
       "      <Appearance>\n",
       "\n",
       "       <Material diffuseColor=\"0.753 0.753 0.753\" specularColor=\"0.5 0.5 0.5\">\n",
       "\n",
       "       </Material>\n",
       "\n",
       "      </Appearance>\n",
       "\n",
       "      <Sphere radius=\"1.45\">\n",
       "\n",
       "      </Sphere>\n",
       "\n",
       "     </Shape>\n",
       "\n",
       "    </Transform>\n",
       "\n",
       "    <Transform translation=\"3.76 1.26 3.80\">\n",
       "\n",
       "     <Shape>\n",
       "\n",
       "      <Appearance>\n",
       "\n",
       "       <Material diffuseColor=\"0.580 0.000 0.580\" specularColor=\"0.5 0.5 0.5\">\n",
       "\n",
       "       </Material>\n",
       "\n",
       "      </Appearance>\n",
       "\n",
       "      <Sphere radius=\"1.39\">\n",
       "\n",
       "      </Sphere>\n",
       "\n",
       "     </Shape>\n",
       "\n",
       "    </Transform>\n",
       "\n",
       "    <Transform translation=\"2.49 -0.00 5.13\">\n",
       "\n",
       "     <Shape>\n",
       "\n",
       "      <Appearance>\n",
       "\n",
       "       <Material diffuseColor=\"0.753 0.753 0.753\" specularColor=\"0.5 0.5 0.5\">\n",
       "\n",
       "       </Material>\n",
       "\n",
       "      </Appearance>\n",
       "\n",
       "      <Sphere radius=\"1.45\">\n",
       "\n",
       "      </Sphere>\n",
       "\n",
       "     </Shape>\n",
       "\n",
       "    </Transform>\n",
       "\n",
       "    <Transform translation=\"3.78 1.31 6.31\">\n",
       "\n",
       "     <Shape>\n",
       "\n",
       "      <Appearance>\n",
       "\n",
       "       <Material diffuseColor=\"0.580 0.000 0.580\" specularColor=\"0.5 0.5 0.5\">\n",
       "\n",
       "       </Material>\n",
       "\n",
       "      </Appearance>\n",
       "\n",
       "      <Sphere radius=\"1.39\">\n",
       "\n",
       "      </Sphere>\n",
       "\n",
       "     </Shape>\n",
       "\n",
       "    </Transform>\n",
       "\n",
       "    <Transform translation=\"2.56 2.54 0.00\">\n",
       "\n",
       "     <Shape>\n",
       "\n",
       "      <Appearance>\n",
       "\n",
       "       <Material diffuseColor=\"0.753 0.753 0.753\" specularColor=\"0.5 0.5 0.5\">\n",
       "\n",
       "       </Material>\n",
       "\n",
       "      </Appearance>\n",
       "\n",
       "      <Sphere radius=\"1.45\">\n",
       "\n",
       "      </Sphere>\n",
       "\n",
       "     </Shape>\n",
       "\n",
       "    </Transform>\n",
       "\n",
       "    <Transform translation=\"3.79 3.82 1.29\">\n",
       "\n",
       "     <Shape>\n",
       "\n",
       "      <Appearance>\n",
       "\n",
       "       <Material diffuseColor=\"0.580 0.000 0.580\" specularColor=\"0.5 0.5 0.5\">\n",
       "\n",
       "       </Material>\n",
       "\n",
       "      </Appearance>\n",
       "\n",
       "      <Sphere radius=\"1.39\">\n",
       "\n",
       "      </Sphere>\n",
       "\n",
       "     </Shape>\n",
       "\n",
       "    </Transform>\n",
       "\n",
       "    <Transform translation=\"2.50 2.51 2.55\">\n",
       "\n",
       "     <Shape>\n",
       "\n",
       "      <Appearance>\n",
       "\n",
       "       <Material diffuseColor=\"0.753 0.753 0.753\" specularColor=\"0.5 0.5 0.5\">\n",
       "\n",
       "       </Material>\n",
       "\n",
       "      </Appearance>\n",
       "\n",
       "      <Sphere radius=\"1.45\">\n",
       "\n",
       "      </Sphere>\n",
       "\n",
       "     </Shape>\n",
       "\n",
       "    </Transform>\n",
       "\n",
       "    <Transform translation=\"3.85 3.77 3.76\">\n",
       "\n",
       "     <Shape>\n",
       "\n",
       "      <Appearance>\n",
       "\n",
       "       <Material diffuseColor=\"0.580 0.000 0.580\" specularColor=\"0.5 0.5 0.5\">\n",
       "\n",
       "       </Material>\n",
       "\n",
       "      </Appearance>\n",
       "\n",
       "      <Sphere radius=\"1.39\">\n",
       "\n",
       "      </Sphere>\n",
       "\n",
       "     </Shape>\n",
       "\n",
       "    </Transform>\n",
       "\n",
       "    <Transform translation=\"2.57 2.57 5.06\">\n",
       "\n",
       "     <Shape>\n",
       "\n",
       "      <Appearance>\n",
       "\n",
       "       <Material diffuseColor=\"0.753 0.753 0.753\" specularColor=\"0.5 0.5 0.5\">\n",
       "\n",
       "       </Material>\n",
       "\n",
       "      </Appearance>\n",
       "\n",
       "      <Sphere radius=\"1.45\">\n",
       "\n",
       "      </Sphere>\n",
       "\n",
       "     </Shape>\n",
       "\n",
       "    </Transform>\n",
       "\n",
       "    <Transform translation=\"3.79 3.80 6.35\">\n",
       "\n",
       "     <Shape>\n",
       "\n",
       "      <Appearance>\n",
       "\n",
       "       <Material diffuseColor=\"0.580 0.000 0.580\" specularColor=\"0.5 0.5 0.5\">\n",
       "\n",
       "       </Material>\n",
       "\n",
       "      </Appearance>\n",
       "\n",
       "      <Sphere radius=\"1.39\">\n",
       "\n",
       "      </Sphere>\n",
       "\n",
       "     </Shape>\n",
       "\n",
       "    </Transform>\n",
       "\n",
       "    <Transform translation=\"2.54 5.04 -0.02\">\n",
       "\n",
       "     <Shape>\n",
       "\n",
       "      <Appearance>\n",
       "\n",
       "       <Material diffuseColor=\"0.753 0.753 0.753\" specularColor=\"0.5 0.5 0.5\">\n",
       "\n",
       "       </Material>\n",
       "\n",
       "      </Appearance>\n",
       "\n",
       "      <Sphere radius=\"1.45\">\n",
       "\n",
       "      </Sphere>\n",
       "\n",
       "     </Shape>\n",
       "\n",
       "    </Transform>\n",
       "\n",
       "    <Transform translation=\"3.80 6.39 1.24\">\n",
       "\n",
       "     <Shape>\n",
       "\n",
       "      <Appearance>\n",
       "\n",
       "       <Material diffuseColor=\"0.580 0.000 0.580\" specularColor=\"0.5 0.5 0.5\">\n",
       "\n",
       "       </Material>\n",
       "\n",
       "      </Appearance>\n",
       "\n",
       "      <Sphere radius=\"1.39\">\n",
       "\n",
       "      </Sphere>\n",
       "\n",
       "     </Shape>\n",
       "\n",
       "    </Transform>\n",
       "\n",
       "    <Transform translation=\"2.58 5.08 2.54\">\n",
       "\n",
       "     <Shape>\n",
       "\n",
       "      <Appearance>\n",
       "\n",
       "       <Material diffuseColor=\"0.753 0.753 0.753\" specularColor=\"0.5 0.5 0.5\">\n",
       "\n",
       "       </Material>\n",
       "\n",
       "      </Appearance>\n",
       "\n",
       "      <Sphere radius=\"1.45\">\n",
       "\n",
       "      </Sphere>\n",
       "\n",
       "     </Shape>\n",
       "\n",
       "    </Transform>\n",
       "\n",
       "    <Transform translation=\"3.77 6.40 3.82\">\n",
       "\n",
       "     <Shape>\n",
       "\n",
       "      <Appearance>\n",
       "\n",
       "       <Material diffuseColor=\"0.580 0.000 0.580\" specularColor=\"0.5 0.5 0.5\">\n",
       "\n",
       "       </Material>\n",
       "\n",
       "      </Appearance>\n",
       "\n",
       "      <Sphere radius=\"1.39\">\n",
       "\n",
       "      </Sphere>\n",
       "\n",
       "     </Shape>\n",
       "\n",
       "    </Transform>\n",
       "\n",
       "    <Transform translation=\"2.55 5.06 5.07\">\n",
       "\n",
       "     <Shape>\n",
       "\n",
       "      <Appearance>\n",
       "\n",
       "       <Material diffuseColor=\"0.753 0.753 0.753\" specularColor=\"0.5 0.5 0.5\">\n",
       "\n",
       "       </Material>\n",
       "\n",
       "      </Appearance>\n",
       "\n",
       "      <Sphere radius=\"1.45\">\n",
       "\n",
       "      </Sphere>\n",
       "\n",
       "     </Shape>\n",
       "\n",
       "    </Transform>\n",
       "\n",
       "    <Transform translation=\"3.85 6.30 6.32\">\n",
       "\n",
       "     <Shape>\n",
       "\n",
       "      <Appearance>\n",
       "\n",
       "       <Material diffuseColor=\"0.580 0.000 0.580\" specularColor=\"0.5 0.5 0.5\">\n",
       "\n",
       "       </Material>\n",
       "\n",
       "      </Appearance>\n",
       "\n",
       "      <Sphere radius=\"1.39\">\n",
       "\n",
       "      </Sphere>\n",
       "\n",
       "     </Shape>\n",
       "\n",
       "    </Transform>\n",
       "\n",
       "    <Transform translation=\"5.10 -0.05 -0.00\">\n",
       "\n",
       "     <Shape>\n",
       "\n",
       "      <Appearance>\n",
       "\n",
       "       <Material diffuseColor=\"0.753 0.753 0.753\" specularColor=\"0.5 0.5 0.5\">\n",
       "\n",
       "       </Material>\n",
       "\n",
       "      </Appearance>\n",
       "\n",
       "      <Sphere radius=\"1.45\">\n",
       "\n",
       "      </Sphere>\n",
       "\n",
       "     </Shape>\n",
       "\n",
       "    </Transform>\n",
       "\n",
       "    <Transform translation=\"6.32 1.26 1.23\">\n",
       "\n",
       "     <Shape>\n",
       "\n",
       "      <Appearance>\n",
       "\n",
       "       <Material diffuseColor=\"0.580 0.000 0.580\" specularColor=\"0.5 0.5 0.5\">\n",
       "\n",
       "       </Material>\n",
       "\n",
       "      </Appearance>\n",
       "\n",
       "      <Sphere radius=\"1.39\">\n",
       "\n",
       "      </Sphere>\n",
       "\n",
       "     </Shape>\n",
       "\n",
       "    </Transform>\n",
       "\n",
       "    <Transform translation=\"5.06 -0.02 2.56\">\n",
       "\n",
       "     <Shape>\n",
       "\n",
       "      <Appearance>\n",
       "\n",
       "       <Material diffuseColor=\"0.753 0.753 0.753\" specularColor=\"0.5 0.5 0.5\">\n",
       "\n",
       "       </Material>\n",
       "\n",
       "      </Appearance>\n",
       "\n",
       "      <Sphere radius=\"1.45\">\n",
       "\n",
       "      </Sphere>\n",
       "\n",
       "     </Shape>\n",
       "\n",
       "    </Transform>\n",
       "\n",
       "    <Transform translation=\"6.38 1.26 3.82\">\n",
       "\n",
       "     <Shape>\n",
       "\n",
       "      <Appearance>\n",
       "\n",
       "       <Material diffuseColor=\"0.580 0.000 0.580\" specularColor=\"0.5 0.5 0.5\">\n",
       "\n",
       "       </Material>\n",
       "\n",
       "      </Appearance>\n",
       "\n",
       "      <Sphere radius=\"1.39\">\n",
       "\n",
       "      </Sphere>\n",
       "\n",
       "     </Shape>\n",
       "\n",
       "    </Transform>\n",
       "\n",
       "    <Transform translation=\"5.10 -0.02 5.10\">\n",
       "\n",
       "     <Shape>\n",
       "\n",
       "      <Appearance>\n",
       "\n",
       "       <Material diffuseColor=\"0.753 0.753 0.753\" specularColor=\"0.5 0.5 0.5\">\n",
       "\n",
       "       </Material>\n",
       "\n",
       "      </Appearance>\n",
       "\n",
       "      <Sphere radius=\"1.45\">\n",
       "\n",
       "      </Sphere>\n",
       "\n",
       "     </Shape>\n",
       "\n",
       "    </Transform>\n",
       "\n",
       "    <Transform translation=\"6.37 1.24 6.30\">\n",
       "\n",
       "     <Shape>\n",
       "\n",
       "      <Appearance>\n",
       "\n",
       "       <Material diffuseColor=\"0.580 0.000 0.580\" specularColor=\"0.5 0.5 0.5\">\n",
       "\n",
       "       </Material>\n",
       "\n",
       "      </Appearance>\n",
       "\n",
       "      <Sphere radius=\"1.39\">\n",
       "\n",
       "      </Sphere>\n",
       "\n",
       "     </Shape>\n",
       "\n",
       "    </Transform>\n",
       "\n",
       "    <Transform translation=\"5.10 2.55 0.01\">\n",
       "\n",
       "     <Shape>\n",
       "\n",
       "      <Appearance>\n",
       "\n",
       "       <Material diffuseColor=\"0.753 0.753 0.753\" specularColor=\"0.5 0.5 0.5\">\n",
       "\n",
       "       </Material>\n",
       "\n",
       "      </Appearance>\n",
       "\n",
       "      <Sphere radius=\"1.45\">\n",
       "\n",
       "      </Sphere>\n",
       "\n",
       "     </Shape>\n",
       "\n",
       "    </Transform>\n",
       "\n",
       "    <Transform translation=\"6.35 3.76 1.30\">\n",
       "\n",
       "     <Shape>\n",
       "\n",
       "      <Appearance>\n",
       "\n",
       "       <Material diffuseColor=\"0.580 0.000 0.580\" specularColor=\"0.5 0.5 0.5\">\n",
       "\n",
       "       </Material>\n",
       "\n",
       "      </Appearance>\n",
       "\n",
       "      <Sphere radius=\"1.39\">\n",
       "\n",
       "      </Sphere>\n",
       "\n",
       "     </Shape>\n",
       "\n",
       "    </Transform>\n",
       "\n",
       "    <Transform translation=\"5.10 2.51 2.49\">\n",
       "\n",
       "     <Shape>\n",
       "\n",
       "      <Appearance>\n",
       "\n",
       "       <Material diffuseColor=\"0.753 0.753 0.753\" specularColor=\"0.5 0.5 0.5\">\n",
       "\n",
       "       </Material>\n",
       "\n",
       "      </Appearance>\n",
       "\n",
       "      <Sphere radius=\"1.45\">\n",
       "\n",
       "      </Sphere>\n",
       "\n",
       "     </Shape>\n",
       "\n",
       "    </Transform>\n",
       "\n",
       "    <Transform translation=\"6.31 3.83 3.81\">\n",
       "\n",
       "     <Shape>\n",
       "\n",
       "      <Appearance>\n",
       "\n",
       "       <Material diffuseColor=\"0.580 0.000 0.580\" specularColor=\"0.5 0.5 0.5\">\n",
       "\n",
       "       </Material>\n",
       "\n",
       "      </Appearance>\n",
       "\n",
       "      <Sphere radius=\"1.39\">\n",
       "\n",
       "      </Sphere>\n",
       "\n",
       "     </Shape>\n",
       "\n",
       "    </Transform>\n",
       "\n",
       "    <Transform translation=\"5.09 2.58 5.06\">\n",
       "\n",
       "     <Shape>\n",
       "\n",
       "      <Appearance>\n",
       "\n",
       "       <Material diffuseColor=\"0.753 0.753 0.753\" specularColor=\"0.5 0.5 0.5\">\n",
       "\n",
       "       </Material>\n",
       "\n",
       "      </Appearance>\n",
       "\n",
       "      <Sphere radius=\"1.45\">\n",
       "\n",
       "      </Sphere>\n",
       "\n",
       "     </Shape>\n",
       "\n",
       "    </Transform>\n",
       "\n",
       "    <Transform translation=\"6.38 3.82 6.35\">\n",
       "\n",
       "     <Shape>\n",
       "\n",
       "      <Appearance>\n",
       "\n",
       "       <Material diffuseColor=\"0.580 0.000 0.580\" specularColor=\"0.5 0.5 0.5\">\n",
       "\n",
       "       </Material>\n",
       "\n",
       "      </Appearance>\n",
       "\n",
       "      <Sphere radius=\"1.39\">\n",
       "\n",
       "      </Sphere>\n",
       "\n",
       "     </Shape>\n",
       "\n",
       "    </Transform>\n",
       "\n",
       "    <Transform translation=\"5.07 5.05 -0.01\">\n",
       "\n",
       "     <Shape>\n",
       "\n",
       "      <Appearance>\n",
       "\n",
       "       <Material diffuseColor=\"0.753 0.753 0.753\" specularColor=\"0.5 0.5 0.5\">\n",
       "\n",
       "       </Material>\n",
       "\n",
       "      </Appearance>\n",
       "\n",
       "      <Sphere radius=\"1.45\">\n",
       "\n",
       "      </Sphere>\n",
       "\n",
       "     </Shape>\n",
       "\n",
       "    </Transform>\n",
       "\n",
       "    <Transform translation=\"6.36 6.37 1.23\">\n",
       "\n",
       "     <Shape>\n",
       "\n",
       "      <Appearance>\n",
       "\n",
       "       <Material diffuseColor=\"0.580 0.000 0.580\" specularColor=\"0.5 0.5 0.5\">\n",
       "\n",
       "       </Material>\n",
       "\n",
       "      </Appearance>\n",
       "\n",
       "      <Sphere radius=\"1.39\">\n",
       "\n",
       "      </Sphere>\n",
       "\n",
       "     </Shape>\n",
       "\n",
       "    </Transform>\n",
       "\n",
       "    <Transform translation=\"5.12 5.11 2.52\">\n",
       "\n",
       "     <Shape>\n",
       "\n",
       "      <Appearance>\n",
       "\n",
       "       <Material diffuseColor=\"0.753 0.753 0.753\" specularColor=\"0.5 0.5 0.5\">\n",
       "\n",
       "       </Material>\n",
       "\n",
       "      </Appearance>\n",
       "\n",
       "      <Sphere radius=\"1.45\">\n",
       "\n",
       "      </Sphere>\n",
       "\n",
       "     </Shape>\n",
       "\n",
       "    </Transform>\n",
       "\n",
       "    <Transform translation=\"6.39 6.37 3.79\">\n",
       "\n",
       "     <Shape>\n",
       "\n",
       "      <Appearance>\n",
       "\n",
       "       <Material diffuseColor=\"0.580 0.000 0.580\" specularColor=\"0.5 0.5 0.5\">\n",
       "\n",
       "       </Material>\n",
       "\n",
       "      </Appearance>\n",
       "\n",
       "      <Sphere radius=\"1.39\">\n",
       "\n",
       "      </Sphere>\n",
       "\n",
       "     </Shape>\n",
       "\n",
       "    </Transform>\n",
       "\n",
       "    <Transform translation=\"5.12 5.09 5.12\">\n",
       "\n",
       "     <Shape>\n",
       "\n",
       "      <Appearance>\n",
       "\n",
       "       <Material diffuseColor=\"0.753 0.753 0.753\" specularColor=\"0.5 0.5 0.5\">\n",
       "\n",
       "       </Material>\n",
       "\n",
       "      </Appearance>\n",
       "\n",
       "      <Sphere radius=\"1.45\">\n",
       "\n",
       "      </Sphere>\n",
       "\n",
       "     </Shape>\n",
       "\n",
       "    </Transform>\n",
       "\n",
       "    <Transform translation=\"6.31 6.37 6.36\">\n",
       "\n",
       "     <Shape>\n",
       "\n",
       "      <Appearance>\n",
       "\n",
       "       <Material diffuseColor=\"0.580 0.000 0.580\" specularColor=\"0.5 0.5 0.5\">\n",
       "\n",
       "       </Material>\n",
       "\n",
       "      </Appearance>\n",
       "\n",
       "      <Sphere radius=\"1.39\">\n",
       "\n",
       "      </Sphere>\n",
       "\n",
       "     </Shape>\n",
       "\n",
       "    </Transform>\n",
       "\n",
       "   </Scene>\n",
       "\n",
       "  </X3D>\n",
       "\n",
       " </body>\n",
       "\n",
       "</html>\n",
       "\n"
      ],
      "text/plain": [
       "<IPython.core.display.HTML object>"
      ]
     },
     "execution_count": 19,
     "metadata": {
      "tags": []
     },
     "output_type": "execute_result"
    }
   ],
   "source": [
    "# view the structure \n",
    "view(struc_curr.to_ase_atoms(), viewer='x3d')"
   ]
  },
  {
   "cell_type": "markdown",
   "metadata": {
    "id": "oedgfWfdgeHk"
   },
   "source": [
    "#### Step 2: Set up a GP model."
   ]
  },
  {
   "cell_type": "code",
   "execution_count": 20,
   "metadata": {
    "id": "eX8P6XE6ghjl"
   },
   "outputs": [],
   "source": [
    "# create gaussian process model\n",
    "kernels = ['twobody']\n",
    "component = 'mc'\n",
    "hyps = np.array([0.1, 1., 0.06])\n",
    "hyp_labels = ['Sigma', 'Length Scale', 'Noise']\n",
    "cutoffs = {'twobody': 5.0}\n",
    "maxiter = 50\n",
    "\n",
    "gp_model = gp.GaussianProcess(\n",
    "  kernels=kernels,\n",
    "  component=component,\n",
    "  hyps=hyps,\n",
    "  hyp_labels=hyp_labels,\n",
    "  cutoffs=cutoffs,\n",
    "  maxiter=50\n",
    ")"
   ]
  },
  {
   "cell_type": "markdown",
   "metadata": {
    "id": "8HZNHX5qgua5"
   },
   "source": [
    "#### Step 3: Set up an OTF training object."
   ]
  },
  {
   "cell_type": "code",
   "execution_count": 21,
   "metadata": {
    "id": "8zTpBIBmg1NF"
   },
   "outputs": [],
   "source": [
    "# create otf object\n",
    "dt = 0.001  # time step (ps)\n",
    "number_of_steps = 50\n",
    "dft_loc = None  # path to dft executable would usually go here\n",
    "std_tolerance_factor = -0.01  # 10 meV/A\n",
    "init_atoms = [0, 25, 50]  # initial atoms added to the training set\n",
    "max_atoms_added = 5  # number of atoms added when dft is called\n",
    "freeze_hyps = 5  # no hyperparameter optimization after this many updates\n",
    "\n",
    "# rescale the temperature halfway through the simulation\n",
    "rescale_steps = [10]  # rescale at step 10\n",
    "rescale_temps = [1000]\n",
    "  \n",
    "otf_model = otf.OTF(\n",
    "    # MD arguments\n",
    "    dt,\n",
    "    number_of_steps,\n",
    "    rescale_steps=rescale_steps,\n",
    "    rescale_temps=rescale_temps,\n",
    "    # FLARE arguments\n",
    "    gp=gp_model,\n",
    "    # OTF arguments\n",
    "    std_tolerance_factor=std_tolerance_factor,\n",
    "    init_atoms=init_atoms,\n",
    "    max_atoms_added=max_atoms_added,\n",
    "    freeze_hyps=freeze_hyps,\n",
    "    # DFT arguments\n",
    "    force_source=lj_module,\n",
    "    dft_loc=dft_loc,\n",
    "    dft_input=input_file_name,\n",
    "    dft_kwargs=lj_params\n",
    "    )"
   ]
  },
  {
   "cell_type": "markdown",
   "metadata": {
    "id": "AfRnWJz6isCF"
   },
   "source": [
    "#### Step 4: Perform the simulation!"
   ]
  },
  {
   "cell_type": "code",
   "execution_count": 22,
   "metadata": {
    "id": "WeJwD-rgn541"
   },
   "outputs": [],
   "source": [
    "# perform flare run (this will take about 2.5 minutes)\n",
    "otf_model.run()"
   ]
  },
  {
   "cell_type": "markdown",
   "metadata": {
    "id": "S4vU6y9hfwng"
   },
   "source": [
    "#### Parsing the OTF output file."
   ]
  },
  {
   "cell_type": "code",
   "execution_count": 23,
   "metadata": {
    "colab": {
     "base_uri": "https://localhost:8080/",
     "height": 279
    },
    "id": "Elwp3GytoA5h",
    "outputId": "3607fa29-d213-48a4-847b-b51e04d1e939"
   },
   "outputs": [
    {
     "data": {
      "image/png": "[encoded data removed]",
      "text/plain": [
       "<Figure size 432x288 with 1 Axes>"
      ]
     },
     "metadata": {
      "needs_background": "light",
      "tags": []
     },
     "output_type": "display_data"
    }
   ],
   "source": [
    "# parse output file\n",
    "output_file = 'otf_run.out'\n",
    "otf_trajectory = otf_parser.OtfAnalysis(output_file)\n",
    "\n",
    "# plot temperature vs. simulation time\n",
    "times = otf_trajectory.times\n",
    "temps = otf_trajectory.thermostat['temperature']\n",
    "dft_times = otf_trajectory.dft_times[1:]  # exclude t = 0\n",
    "\n",
    "for n, dft_time in enumerate(dft_times):\n",
    "    otf_ind = times.index(dft_time)\n",
    "    plt.plot(dft_times[n], temps[otf_ind], 'kx')\n",
    "\n",
    "plt.plot(times, temps)\n",
    "plt.xlabel('time (ps)')\n",
    "plt.ylabel('temperature (K)')\n",
    "plt.show()"
   ]
  },
  {
   "cell_type": "markdown",
   "metadata": {
    "id": "zutBC2A6f26C"
   },
   "source": [
    "#### Comparing the learned model against ground truth."
   ]
  },
  {
   "cell_type": "code",
   "execution_count": 24,
   "metadata": {
    "colab": {
     "base_uri": "https://localhost:8080/",
     "height": 289
    },
    "id": "0lGByzonpH-3",
    "outputId": "d09020af-779a-42b7-fa31-465d41672739"
   },
   "outputs": [
    {
     "data": {
      "image/png": "[encoded data removed]",
      "text/plain": [
       "<Figure size 432x288 with 1 Axes>"
      ]
     },
     "metadata": {
      "needs_background": "light",
      "tags": []
     },
     "output_type": "display_data"
    }
   ],
   "source": [
    "# create structures of 2 atoms, and plot the force on the second atom\n",
    "cell = np.eye(3) * 1000\n",
    "seps = np.arange(2, 5, 0.01)\n",
    "specs = [[47, 47], [47, 53], [53, 53]]\n",
    "store_frcs = np.zeros((3, len(seps)))\n",
    "gp_frcs = np.zeros((3, len(seps)))\n",
    "gp_stds = np.zeros((3, len(seps)))\n",
    "for m, sep in enumerate(seps):\n",
    "    pos = np.array([[0, 0, 0], [sep, 0, 0]])\n",
    "    for n, spec_curr in enumerate(specs):\n",
    "        struc_curr = struc.Structure(cell, spec_curr, pos)\n",
    "        env_curr = env.AtomicEnvironment(struc_curr, 1, np.array([cutoff]))\n",
    "        frcs = \\\n",
    "            lj_module.run_dft_par(structure=struc_curr, dft_kwargs=lj_params)\n",
    "        store_frcs[n, m] = frcs[1, 0]\n",
    "\n",
    "        # predict the x component of the force\n",
    "        pred, var = gp_model.predict(env_curr, 1)\n",
    "\n",
    "        gp_frcs[n, m] = pred\n",
    "        gp_stds[n, m] = np.sqrt(var)\n",
    "\n",
    "# plot GP predictions vs ground truth\n",
    "cols = ['b', 'r', 'g']\n",
    "for n in range(3):\n",
    "    plt.plot(seps, store_frcs[n], color=cols[n], linestyle='-')\n",
    "    plt.plot(seps, gp_frcs[n], color=cols[n], linestyle='--')\n",
    "    plt.fill_between(seps, gp_frcs[n] + 3 * gp_stds[n],\n",
    "                     gp_frcs[n] - 3 * gp_stds[n],\n",
    "                     color=cols[n], alpha=0.4)\n",
    "\n",
    "plt.xlabel('separation ($\\AA$)')\n",
    "plt.ylabel('force (eV/$\\AA$)')\n",
    "plt.xlim(2, 3.4)\n",
    "plt.ylim(-10, 15)\n",
    "plt.show()"
   ]
  },
  {
   "cell_type": "markdown",
   "metadata": {
    "id": "yrjAH2-gHE80"
   },
   "source": [
    "<img src=\"https://github.com/mir-group/APS-2020-FLARE-Tutorial/blob/master/Tutorial_Images/flare1.png?raw=true\" width=\"100%\">"
   ]
  },
  {
   "cell_type": "markdown",
   "metadata": {
    "id": "FdXmBYZZHH4g"
   },
   "source": [
    "<img src=\"https://github.com/mir-group/APS-2020-FLARE-Tutorial/blob/master/Tutorial_Images/flare2.png?raw=true\" width=\"100%\">"
   ]
  },
  {
   "cell_type": "markdown",
   "metadata": {
    "id": "9LkZRNSQJ1-t"
   },
   "source": [
    "<img src=\"https://github.com/mir-group/APS-2020-FLARE-Tutorial/blob/master/Tutorial_Images/flare3.png?raw=true\" width=\"100%\">"
   ]
  },
  {
   "cell_type": "markdown",
   "metadata": {
    "id": "Q8vPC6k2J6KS"
   },
   "source": [
    "<img src=\"https://github.com/mir-group/APS-2020-FLARE-Tutorial/blob/master/Tutorial_Images/flare4.png?raw=true\" width=\"100%\">"
   ]
  },
  {
   "cell_type": "markdown",
   "metadata": {
    "id": "MmU8G_FIJ9Ue"
   },
   "source": [
    "<img src=\"https://github.com/mir-group/APS-2020-FLARE-Tutorial/blob/master/Tutorial_Images/conclusion.png?raw=true\" width=\"100%\">"
   ]
  },
  {
   "cell_type": "code",
   "execution_count": null,
   "metadata": {
    "id": "4HG-rQSfJ-wP"
   },
   "outputs": [],
   "source": []
  }
 ],
 "metadata": {
  "colab": {
   "collapsed_sections": [
    "GeS6kyP8jBLX"
   ],
   "name": "FLARE_Tutorial.ipynb",
   "provenance": []
  },
  "kernelspec": {
   "display_name": "Python 3",
   "language": "python",
   "name": "python3"
  },
  "language_info": {
   "codemirror_mode": {
    "name": "ipython",
    "version": 3
   },
   "file_extension": ".py",
   "mimetype": "text/x-python",
   "name": "python",
   "nbconvert_exporter": "python",
   "pygments_lexer": "ipython3",
   "version": "3.6.10"
  }
 },
 "nbformat": 4,
 "nbformat_minor": 1
}
